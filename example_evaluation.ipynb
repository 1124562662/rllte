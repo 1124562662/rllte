{
 "cells": [
  {
   "cell_type": "code",
   "execution_count": 1,
   "metadata": {},
   "outputs": [],
   "source": [
    "import pandas as pd\n",
    "import numpy as np\n",
    "from hsuanwu.evaluation import Performance, Comparison\n",
    "\n",
    "EASY_GAME_RANGES = {\n",
    "    'coinrun': [5, 10],\n",
    "    'starpilot': [2.5, 64],\n",
    "    'caveflyer': [3.5, 12],\n",
    "    'dodgeball': [1.5, 19],\n",
    "    'fruitbot': [-1.5, 32.4],\n",
    "    'chaser': [.5, 13],\n",
    "    'miner': [1.5, 13],\n",
    "    'jumper': [1, 10],\n",
    "    'leaper': [1.5, 10],\n",
    "    'maze': [5, 10],\n",
    "    'bigfish': [1, 40],\n",
    "    'heist': [3.5, 10],\n",
    "    'climber': [2, 12.6],\n",
    "    'plunder': [4.5, 30],\n",
    "    'ninja': [3.5, 10],\n",
    "    'bossfight': [.5, 13],\n",
    "}\n",
    "\n",
    "def min_max_normalize(key, value):\n",
    "    return (value - EASY_GAME_RANGES[key][0]) / (EASY_GAME_RANGES[key][1] - EASY_GAME_RANGES[key][0])"
   ]
  },
  {
   "cell_type": "code",
   "execution_count": 3,
   "metadata": {},
   "outputs": [],
   "source": [
    "procgen_data = pd.read_json('./examples/procgen/procgen_data.json')\n",
    "ppo_scores = np.array([min_max_normalize(key, np.array(value)) for key, value in procgen_data['PPO'].items()]).T\n",
    "ppg_scores = np.array([min_max_normalize(key, np.array(value)) for key, value in procgen_data['PPG'].items()]).T"
   ]
  },
  {
   "cell_type": "code",
   "execution_count": 9,
   "metadata": {},
   "outputs": [],
   "source": [
    "perf = Performance(scores=ppo_scores, get_ci=True)"
   ]
  },
  {
   "cell_type": "code",
   "execution_count": 4,
   "metadata": {},
   "outputs": [],
   "source": [
    "comp = Comparison(scores_x=ppg_scores, scores_y=ppo_scores, get_ci=True)"
   ]
  },
  {
   "cell_type": "code",
   "execution_count": 5,
   "metadata": {},
   "outputs": [
    {
     "name": "stdout",
     "output_type": "stream",
     "text": [
      "Computing confidence interval for PoI...\n"
     ]
    }
   ],
   "source": [
    "comp.compute_poi()"
   ]
  },
  {
   "cell_type": "code",
   "execution_count": null,
   "metadata": {},
   "outputs": [],
   "source": []
  }
 ],
 "metadata": {
  "kernelspec": {
   "display_name": "hsuanwu",
   "language": "python",
   "name": "python3"
  },
  "language_info": {
   "codemirror_mode": {
    "name": "ipython",
    "version": 3
   },
   "file_extension": ".py",
   "mimetype": "text/x-python",
   "name": "python",
   "nbconvert_exporter": "python",
   "pygments_lexer": "ipython3",
   "version": "3.8.16"
  },
  "orig_nbformat": 4
 },
 "nbformat": 4,
 "nbformat_minor": 2
}
